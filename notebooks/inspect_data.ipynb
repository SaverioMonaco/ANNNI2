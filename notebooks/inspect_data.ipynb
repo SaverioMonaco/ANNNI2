{
 "cells": [
  {
   "cell_type": "code",
   "execution_count": 60,
   "metadata": {},
   "outputs": [],
   "source": [
    "import ANNNIstates\n",
    "import numpy as np"
   ]
  },
  {
   "cell_type": "code",
   "execution_count": 56,
   "metadata": {},
   "outputs": [],
   "source": [
    "data_path = '../tensor_data/'"
   ]
  },
  {
   "cell_type": "code",
   "execution_count": 58,
   "metadata": {},
   "outputs": [],
   "source": [
    "tensorini = ANNNIstates.mps() # load the folder"
   ]
  },
  {
   "cell_type": "code",
   "execution_count": 59,
   "metadata": {},
   "outputs": [
    {
     "name": "stdout",
     "output_type": "stream",
     "text": [
      "Here are all the information obtained from the folder:\n",
      " L = 12\n",
      "\n",
      " hs = [0.   0.1  0.11 0.2  0.21 0.3  0.32 0.4  0.42 0.5  0.53 0.6  0.63 0.7\n",
      " 0.74 0.8  0.84 0.9  0.95 1.   1.05 1.1  1.16 1.2  1.26 1.3  1.37 1.4\n",
      " 1.47 1.58 1.68 1.79 1.89 2.  ]\n",
      " hs (precision) = 2\n",
      "\n",
      " ks = [0.   0.05 0.1  0.11 0.15 0.16 0.2  0.21 0.25 0.26 0.3  0.32 0.35 0.37\n",
      " 0.4  0.42 0.45 0.47 0.5  0.53 0.55 0.58 0.6  0.63 0.65 0.68 0.7  0.74\n",
      " 0.75 0.79 0.8  0.84 0.85 0.89 0.9  0.95 1.  ]\n",
      " ks (precision) = 2\n"
     ]
    }
   ],
   "source": [
    "print(\"Here are all the information obtained from the folder:\")\n",
    "print(f' L = {tensorini.L}\\n\\n hs = {tensorini.hs:}\\n hs (precision) = {tensorini.h_prec}\\n\\n ks = {tensorini.ks}\\n ks (precision) = {tensorini.k_prec}')"
   ]
  },
  {
   "cell_type": "code",
   "execution_count": 7,
   "metadata": {},
   "outputs": [
    {
     "name": "stdout",
     "output_type": "stream",
     "text": [
      "SHAPE:\n",
      " [-0.70710678  0.70710678 -0.70710678  0.70710678 -0.70710678  0.70710678\n",
      " -0.70710678  0.70710678 -0.70710678  0.70710678  0.70710678 -0.70710678\n",
      " -0.70710678  0.70710678  0.70710678 -0.70710678  0.70710678 -0.70710678\n",
      " -0.70710678  0.70710678 -0.70710678  0.70710678 -0.70710678  0.70710678]\n",
      "\n",
      "TENS:\n",
      " [[1. 2. 1.]\n",
      " [1. 2. 1.]\n",
      " [1. 2. 1.]\n",
      " [1. 2. 1.]\n",
      " [1. 2. 1.]\n",
      " [1. 2. 1.]\n",
      " [1. 2. 1.]\n",
      " [1. 2. 1.]\n",
      " [1. 2. 1.]\n",
      " [1. 2. 1.]\n",
      " [1. 2. 1.]\n",
      " [1. 2. 1.]]\n"
     ]
    }
   ],
   "source": [
    "# I can also easily load the files\n",
    "print(f'SHAPE:\\n {np.loadtxt(ANNNIstates.tensor_str(0,0))}\\n')\n",
    "print(f'TENS:\\n {np.loadtxt(ANNNIstates.shape_str(0,0))}')\n"
   ]
  }
 ],
 "metadata": {
  "kernelspec": {
   "display_name": "env",
   "language": "python",
   "name": "python3"
  },
  "language_info": {
   "codemirror_mode": {
    "name": "ipython",
    "version": 3
   },
   "file_extension": ".py",
   "mimetype": "text/x-python",
   "name": "python",
   "nbconvert_exporter": "python",
   "pygments_lexer": "ipython3",
   "version": "3.10.6"
  },
  "orig_nbformat": 4
 },
 "nbformat": 4,
 "nbformat_minor": 2
}
