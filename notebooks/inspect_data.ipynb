{
 "cells": [
  {
   "attachments": {},
   "cell_type": "markdown",
   "metadata": {},
   "source": [
    "# Noteboks: how are the states stored?"
   ]
  },
  {
   "cell_type": "code",
   "execution_count": 1,
   "metadata": {},
   "outputs": [],
   "source": [
    "import sys \n",
    "sys.path.append('../src')\n",
    "\n",
    "import ANNNIstates \n",
    "import numpy as np"
   ]
  },
  {
   "cell_type": "code",
   "execution_count": 8,
   "metadata": {},
   "outputs": [
    {
     "name": "stderr",
     "output_type": "stream",
     "text": [
      "/home/saverio/Desktop/ANNNI2/.venv/lib/python3.10/site-packages/numpy/core/numeric.py:330: RuntimeWarning: invalid value encountered in cast\n",
      "  multiarray.copyto(a, fill_value, casting='unsafe')\n"
     ]
    }
   ],
   "source": [
    "# Folder where all the filesare stored\n",
    "data_path = '../tensor_data/'\n",
    "\n",
    "# Load all files with ANNNIstates.mps class\n",
    "tensorini = ANNNIstates.mps(folder = data_path)"
   ]
  },
  {
   "cell_type": "code",
   "execution_count": 3,
   "metadata": {},
   "outputs": [
    {
     "name": "stdout",
     "output_type": "stream",
     "text": [
      "Here are all the information obtained from the folder:\n",
      " L = 12\n",
      "\n",
      " hs = [0.  0.1 0.2 0.3 0.4 0.5 0.6 0.7 0.8 0.9 1.  1.1 1.2 1.3 1.4 1.5 1.6 1.7\n",
      " 1.8 1.9 2. ]\n",
      " hs (precision) = 2\n",
      "\n",
      " ks = [0.   0.05 0.1  0.15 0.2  0.25 0.3  0.35 0.4  0.45 0.5  0.55 0.6  0.65\n",
      " 0.7  0.75 0.8  0.85 0.9  0.95 1.  ]\n",
      " ks (precision) = 2\n"
     ]
    }
   ],
   "source": [
    "print(\"Here are all the information obtained from the folder:\")\n",
    "print(f' L = {tensorini.L}\\n\\n hs = {tensorini.hs:}\\n hs (precision) = {tensorini.h_prec}\\n\\n ks = {tensorini.ks}\\n ks (precision) = {tensorini.k_prec}')"
   ]
  },
  {
   "cell_type": "code",
   "execution_count": 5,
   "metadata": {},
   "outputs": [
    {
     "name": "stdout",
     "output_type": "stream",
     "text": [
      "SHAPE:\n",
      " [-0.70710678  0.70710678 -0.70710678  0.70710678 -0.70710678  0.70710678\n",
      " -0.70710678  0.70710678 -0.70710678  0.70710678  0.70710678 -0.70710678\n",
      " -0.70710678  0.70710678  0.70710678 -0.70710678  0.70710678 -0.70710678\n",
      " -0.70710678  0.70710678 -0.70710678  0.70710678 -0.70710678  0.70710678]\n",
      "\n",
      "TENS:\n",
      " [[1. 2. 1.]\n",
      " [1. 2. 1.]\n",
      " [1. 2. 1.]\n",
      " [1. 2. 1.]\n",
      " [1. 2. 1.]\n",
      " [1. 2. 1.]\n",
      " [1. 2. 1.]\n",
      " [1. 2. 1.]\n",
      " [1. 2. 1.]\n",
      " [1. 2. 1.]\n",
      " [1. 2. 1.]\n",
      " [1. 2. 1.]]\n"
     ]
    }
   ],
   "source": [
    "# Loading all the files can be done easily\n",
    "print(f'SHAPE:\\n {np.loadtxt(tensorini.tensor_str(0,0))}\\n')\n",
    "print(f'TENS:\\n {np.loadtxt(tensorini.shape_str(0,0))}')\n"
   ]
  },
  {
   "cell_type": "code",
   "execution_count": null,
   "metadata": {},
   "outputs": [],
   "source": []
  }
 ],
 "metadata": {
  "kernelspec": {
   "display_name": "env",
   "language": "python",
   "name": "python3"
  },
  "language_info": {
   "codemirror_mode": {
    "name": "ipython",
    "version": 3
   },
   "file_extension": ".py",
   "mimetype": "text/x-python",
   "name": "python",
   "nbconvert_exporter": "python",
   "pygments_lexer": "ipython3",
   "version": "3.10.6"
  },
  "orig_nbformat": 4
 },
 "nbformat": 4,
 "nbformat_minor": 2
}
