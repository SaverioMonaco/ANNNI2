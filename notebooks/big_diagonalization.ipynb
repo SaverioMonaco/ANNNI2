{
 "cells": [
  {
   "cell_type": "code",
   "execution_count": 1,
   "metadata": {},
   "outputs": [],
   "source": [
    "from jax import numpy as jnp, jit\n",
    "import numpy as np\n",
    "import matplotlib.pyplot as plt\n",
    "import time"
   ]
  },
  {
   "cell_type": "code",
   "execution_count": 2,
   "metadata": {},
   "outputs": [],
   "source": [
    "def generate_big_matrix(sites = 20):\n",
    "    A = jnp.array(np.random.rand(2**sites,2**sites))\n",
    "    B = A + A.conj().T\n",
    "\n",
    "    return B\n",
    "\n",
    "def diagonalize(matrix):\n",
    "    return jnp.linalg.eigh(matrix)\n",
    "\n",
    "j_diagonalize = jit(diagonalize)"
   ]
  },
  {
   "cell_type": "code",
   "execution_count": 3,
   "metadata": {},
   "outputs": [
    {
     "data": {
      "text/plain": [
       "(Array([-1.8268087 , -1.4196547 , -0.83530414, -0.01871365,  0.99905246,\n",
       "         1.2140357 ,  1.7313071 ,  8.691386  ], dtype=float32),\n",
       " Array([[-0.28954697,  0.27703616,  0.33038476, -0.58959746,  0.17760743,\n",
       "          0.46200183,  0.15979823,  0.3348264 ],\n",
       "        [ 0.2656247 , -0.047735  ,  0.12408306, -0.09313751, -0.77272546,\n",
       "         -0.09909505,  0.44097322,  0.31892297],\n",
       "        [-0.580025  , -0.12890977, -0.31292254,  0.03350841,  0.17748196,\n",
       "         -0.49202853,  0.3477377 ,  0.39165884],\n",
       "        [ 0.64401966,  0.04321862, -0.38731208, -0.39633298,  0.3337451 ,\n",
       "         -0.20510708, -0.06790455,  0.3438236 ],\n",
       "        [-0.10935659, -0.1559155 ,  0.43324924, -0.14466847, -0.15031284,\n",
       "         -0.40325886, -0.6857583 ,  0.31562972],\n",
       "        [ 0.23698235, -0.5005389 ,  0.42495888,  0.40288395,  0.38134202,\n",
       "          0.18282095,  0.22766002,  0.34600633],\n",
       "        [-0.14549747, -0.26371297, -0.5066678 ,  0.14175038, -0.24346495,\n",
       "          0.5441703 , -0.35429594,  0.3893058 ],\n",
       "        [ 0.0715996 ,  0.7470564 ,  0.05011498,  0.5311876 ,  0.03426916,\n",
       "         -0.02027283, -0.08280305,  0.3790344 ]], dtype=float32))"
      ]
     },
     "execution_count": 3,
     "metadata": {},
     "output_type": "execute_result"
    }
   ],
   "source": [
    "matrix = generate_big_matrix(3)\n",
    "\n",
    "j_diagonalize(matrix)"
   ]
  },
  {
   "cell_type": "code",
   "execution_count": 4,
   "metadata": {},
   "outputs": [
    {
     "name": "stderr",
     "output_type": "stream",
     "text": [
      "2023-10-06 17:49:18.286831: W external/tsl/tsl/framework/bfc_allocator.cc:485] Allocator (GPU_0_bfc) ran out of memory trying to allocate 4.00GiB (rounded to 4294967296)requested by op \n",
      "2023-10-06 17:49:18.288646: W external/tsl/tsl/framework/bfc_allocator.cc:497] *__________***********************************______________________________________________________\n"
     ]
    },
    {
     "ename": "XlaRuntimeError",
     "evalue": "RESOURCE_EXHAUSTED: Out of memory while trying to allocate 4294967296 bytes.",
     "output_type": "error",
     "traceback": [
      "\u001b[0;31m---------------------------------------------------------------------------\u001b[0m",
      "\u001b[0;31mXlaRuntimeError\u001b[0m                           Traceback (most recent call last)",
      "Cell \u001b[0;32mIn[4], line 4\u001b[0m\n\u001b[1;32m      2\u001b[0m times \u001b[39m=\u001b[39m []\n\u001b[1;32m      3\u001b[0m \u001b[39mfor\u001b[39;00m L \u001b[39min\u001b[39;00m Ls:\n\u001b[0;32m----> 4\u001b[0m     mat \u001b[39m=\u001b[39m generate_big_matrix(L)\n\u001b[1;32m      5\u001b[0m     start \u001b[39m=\u001b[39m time\u001b[39m.\u001b[39mtime()\n\u001b[1;32m      6\u001b[0m     diag_time \u001b[39m=\u001b[39m j_diagonalize(mat)\n",
      "Cell \u001b[0;32mIn[2], line 2\u001b[0m, in \u001b[0;36mgenerate_big_matrix\u001b[0;34m(sites)\u001b[0m\n\u001b[1;32m      1\u001b[0m \u001b[39mdef\u001b[39;00m \u001b[39mgenerate_big_matrix\u001b[39m(sites \u001b[39m=\u001b[39m \u001b[39m20\u001b[39m):\n\u001b[0;32m----> 2\u001b[0m     A \u001b[39m=\u001b[39m jnp\u001b[39m.\u001b[39;49marray(np\u001b[39m.\u001b[39;49mrandom\u001b[39m.\u001b[39;49mrand(\u001b[39m2\u001b[39;49m\u001b[39m*\u001b[39;49m\u001b[39m*\u001b[39;49msites,\u001b[39m2\u001b[39;49m\u001b[39m*\u001b[39;49m\u001b[39m*\u001b[39;49msites))\n\u001b[1;32m      3\u001b[0m     B \u001b[39m=\u001b[39m A \u001b[39m+\u001b[39m A\u001b[39m.\u001b[39mconj()\u001b[39m.\u001b[39mT\n\u001b[1;32m      5\u001b[0m     \u001b[39mreturn\u001b[39;00m B\n",
      "File \u001b[0;32m~/Desktop/ANNNI2/.venv/lib/python3.10/site-packages/jax/_src/numpy/lax_numpy.py:2089\u001b[0m, in \u001b[0;36marray\u001b[0;34m(object, dtype, copy, order, ndmin)\u001b[0m\n\u001b[1;32m   2085\u001b[0m     \u001b[39mreturn\u001b[39;00m array(np\u001b[39m.\u001b[39masarray(view), dtype, copy, ndmin\u001b[39m=\u001b[39mndmin)\n\u001b[1;32m   2087\u001b[0m   \u001b[39mraise\u001b[39;00m \u001b[39mTypeError\u001b[39;00m(\u001b[39mf\u001b[39m\u001b[39m\"\u001b[39m\u001b[39mUnexpected input type for array: \u001b[39m\u001b[39m{\u001b[39;00m\u001b[39mtype\u001b[39m(\u001b[39mobject\u001b[39m)\u001b[39m}\u001b[39;00m\u001b[39m\"\u001b[39m)\n\u001b[0;32m-> 2089\u001b[0m out_array: Array \u001b[39m=\u001b[39m lax_internal\u001b[39m.\u001b[39;49m_convert_element_type(\n\u001b[1;32m   2090\u001b[0m     out, dtype, weak_type\u001b[39m=\u001b[39;49mweak_type)\n\u001b[1;32m   2091\u001b[0m \u001b[39mif\u001b[39;00m ndmin \u001b[39m>\u001b[39m ndim(out_array):\n\u001b[1;32m   2092\u001b[0m   out_array \u001b[39m=\u001b[39m lax\u001b[39m.\u001b[39mexpand_dims(out_array, \u001b[39mrange\u001b[39m(ndmin \u001b[39m-\u001b[39m ndim(out_array)))\n",
      "File \u001b[0;32m~/Desktop/ANNNI2/.venv/lib/python3.10/site-packages/jax/_src/lax/lax.py:555\u001b[0m, in \u001b[0;36m_convert_element_type\u001b[0;34m(operand, new_dtype, weak_type)\u001b[0m\n\u001b[1;32m    553\u001b[0m   \u001b[39mreturn\u001b[39;00m type_cast(Array, operand)\n\u001b[1;32m    554\u001b[0m \u001b[39melse\u001b[39;00m:\n\u001b[0;32m--> 555\u001b[0m   \u001b[39mreturn\u001b[39;00m convert_element_type_p\u001b[39m.\u001b[39;49mbind(operand, new_dtype\u001b[39m=\u001b[39;49mnew_dtype,\n\u001b[1;32m    556\u001b[0m                                      weak_type\u001b[39m=\u001b[39;49m\u001b[39mbool\u001b[39;49m(weak_type))\n",
      "File \u001b[0;32m~/Desktop/ANNNI2/.venv/lib/python3.10/site-packages/jax/_src/core.py:386\u001b[0m, in \u001b[0;36mPrimitive.bind\u001b[0;34m(self, *args, **params)\u001b[0m\n\u001b[1;32m    383\u001b[0m \u001b[39mdef\u001b[39;00m \u001b[39mbind\u001b[39m(\u001b[39mself\u001b[39m, \u001b[39m*\u001b[39margs, \u001b[39m*\u001b[39m\u001b[39m*\u001b[39mparams):\n\u001b[1;32m    384\u001b[0m   \u001b[39massert\u001b[39;00m (\u001b[39mnot\u001b[39;00m config\u001b[39m.\u001b[39mjax_enable_checks \u001b[39mor\u001b[39;00m\n\u001b[1;32m    385\u001b[0m           \u001b[39mall\u001b[39m(\u001b[39misinstance\u001b[39m(arg, Tracer) \u001b[39mor\u001b[39;00m valid_jaxtype(arg) \u001b[39mfor\u001b[39;00m arg \u001b[39min\u001b[39;00m args)), args\n\u001b[0;32m--> 386\u001b[0m   \u001b[39mreturn\u001b[39;00m \u001b[39mself\u001b[39;49m\u001b[39m.\u001b[39;49mbind_with_trace(find_top_trace(args), args, params)\n",
      "File \u001b[0;32m~/Desktop/ANNNI2/.venv/lib/python3.10/site-packages/jax/_src/core.py:389\u001b[0m, in \u001b[0;36mPrimitive.bind_with_trace\u001b[0;34m(self, trace, args, params)\u001b[0m\n\u001b[1;32m    388\u001b[0m \u001b[39mdef\u001b[39;00m \u001b[39mbind_with_trace\u001b[39m(\u001b[39mself\u001b[39m, trace, args, params):\n\u001b[0;32m--> 389\u001b[0m   out \u001b[39m=\u001b[39m trace\u001b[39m.\u001b[39;49mprocess_primitive(\u001b[39mself\u001b[39;49m, \u001b[39mmap\u001b[39;49m(trace\u001b[39m.\u001b[39;49mfull_raise, args), params)\n\u001b[1;32m    390\u001b[0m   \u001b[39mreturn\u001b[39;00m \u001b[39mmap\u001b[39m(full_lower, out) \u001b[39mif\u001b[39;00m \u001b[39mself\u001b[39m\u001b[39m.\u001b[39mmultiple_results \u001b[39melse\u001b[39;00m full_lower(out)\n",
      "File \u001b[0;32m~/Desktop/ANNNI2/.venv/lib/python3.10/site-packages/jax/_src/core.py:869\u001b[0m, in \u001b[0;36mEvalTrace.process_primitive\u001b[0;34m(self, primitive, tracers, params)\u001b[0m\n\u001b[1;32m    868\u001b[0m \u001b[39mdef\u001b[39;00m \u001b[39mprocess_primitive\u001b[39m(\u001b[39mself\u001b[39m, primitive, tracers, params):\n\u001b[0;32m--> 869\u001b[0m   \u001b[39mreturn\u001b[39;00m primitive\u001b[39m.\u001b[39;49mimpl(\u001b[39m*\u001b[39;49mtracers, \u001b[39m*\u001b[39;49m\u001b[39m*\u001b[39;49mparams)\n",
      "File \u001b[0;32m~/Desktop/ANNNI2/.venv/lib/python3.10/site-packages/jax/_src/dispatch.py:140\u001b[0m, in \u001b[0;36mapply_primitive\u001b[0;34m(prim, *args, **params)\u001b[0m\n\u001b[1;32m    136\u001b[0m   msg \u001b[39m=\u001b[39m pjit\u001b[39m.\u001b[39m_device_assignment_mismatch_error(\n\u001b[1;32m    137\u001b[0m       prim\u001b[39m.\u001b[39mname, fails, args, \u001b[39m'\u001b[39m\u001b[39mjit\u001b[39m\u001b[39m'\u001b[39m, arg_names)\n\u001b[1;32m    138\u001b[0m   \u001b[39mraise\u001b[39;00m \u001b[39mValueError\u001b[39;00m(msg) \u001b[39mfrom\u001b[39;00m \u001b[39mNone\u001b[39;00m\n\u001b[0;32m--> 140\u001b[0m \u001b[39mreturn\u001b[39;00m compiled_fun(\u001b[39m*\u001b[39;49margs)\n",
      "File \u001b[0;32m~/Desktop/ANNNI2/.venv/lib/python3.10/site-packages/jax/_src/dispatch.py:172\u001b[0m, in \u001b[0;36mxla_primitive_callable.<locals>.<lambda>\u001b[0;34m(*args, **kw)\u001b[0m\n\u001b[1;32m    170\u001b[0m   call \u001b[39m=\u001b[39m compiled\u001b[39m.\u001b[39munsafe_call\n\u001b[1;32m    171\u001b[0m \u001b[39mif\u001b[39;00m \u001b[39mnot\u001b[39;00m prim\u001b[39m.\u001b[39mmultiple_results:\n\u001b[0;32m--> 172\u001b[0m   \u001b[39mreturn\u001b[39;00m \u001b[39mlambda\u001b[39;00m \u001b[39m*\u001b[39margs, \u001b[39m*\u001b[39m\u001b[39m*\u001b[39mkw: call(\u001b[39m*\u001b[39;49margs, \u001b[39m*\u001b[39;49m\u001b[39m*\u001b[39;49mkw)[\u001b[39m0\u001b[39m]\n\u001b[1;32m    173\u001b[0m \u001b[39melse\u001b[39;00m:\n\u001b[1;32m    174\u001b[0m   \u001b[39mreturn\u001b[39;00m call\n",
      "File \u001b[0;32m~/Desktop/ANNNI2/.venv/lib/python3.10/site-packages/jax/_src/interpreters/pxla.py:2812\u001b[0m, in \u001b[0;36mMeshExecutable.create_cpp_call_for_apply_primitive.<locals>.apply_primitive_cache_miss\u001b[0;34m(*args)\u001b[0m\n\u001b[1;32m   2811\u001b[0m \u001b[39mdef\u001b[39;00m \u001b[39mapply_primitive_cache_miss\u001b[39m(\u001b[39m*\u001b[39margs):\n\u001b[0;32m-> 2812\u001b[0m   out_flat \u001b[39m=\u001b[39m \u001b[39mself\u001b[39;49m\u001b[39m.\u001b[39;49munsafe_call(\u001b[39m*\u001b[39;49margs)\n\u001b[1;32m   2813\u001b[0m   outs \u001b[39m=\u001b[39m tree_util\u001b[39m.\u001b[39mtree_unflatten(out_tree, out_flat)\n\u001b[1;32m   2814\u001b[0m   out_flat, out_tree_dispatch \u001b[39m=\u001b[39m reflatten_outputs_for_dispatch(\n\u001b[1;32m   2815\u001b[0m       out_tree, out_flat)\n",
      "File \u001b[0;32m~/Desktop/ANNNI2/.venv/lib/python3.10/site-packages/jax/_src/profiler.py:314\u001b[0m, in \u001b[0;36mannotate_function.<locals>.wrapper\u001b[0;34m(*args, **kwargs)\u001b[0m\n\u001b[1;32m    311\u001b[0m \u001b[39m@wraps\u001b[39m(func)\n\u001b[1;32m    312\u001b[0m \u001b[39mdef\u001b[39;00m \u001b[39mwrapper\u001b[39m(\u001b[39m*\u001b[39margs, \u001b[39m*\u001b[39m\u001b[39m*\u001b[39mkwargs):\n\u001b[1;32m    313\u001b[0m   \u001b[39mwith\u001b[39;00m TraceAnnotation(name, \u001b[39m*\u001b[39m\u001b[39m*\u001b[39mdecorator_kwargs):\n\u001b[0;32m--> 314\u001b[0m     \u001b[39mreturn\u001b[39;00m func(\u001b[39m*\u001b[39;49margs, \u001b[39m*\u001b[39;49m\u001b[39m*\u001b[39;49mkwargs)\n\u001b[1;32m    315\u001b[0m   \u001b[39mreturn\u001b[39;00m wrapper\n",
      "File \u001b[0;32m~/Desktop/ANNNI2/.venv/lib/python3.10/site-packages/jax/_src/interpreters/pxla.py:1140\u001b[0m, in \u001b[0;36mExecuteReplicated.__call__\u001b[0;34m(self, *args)\u001b[0m\n\u001b[1;32m   1137\u001b[0m \u001b[39m@profiler\u001b[39m\u001b[39m.\u001b[39mannotate_function\n\u001b[1;32m   1138\u001b[0m \u001b[39mdef\u001b[39;00m \u001b[39m__call__\u001b[39m(\u001b[39mself\u001b[39m, \u001b[39m*\u001b[39margs):\n\u001b[1;32m   1139\u001b[0m   args \u001b[39m=\u001b[39m [x \u001b[39mfor\u001b[39;00m i, x \u001b[39min\u001b[39;00m \u001b[39menumerate\u001b[39m(args) \u001b[39mif\u001b[39;00m i \u001b[39min\u001b[39;00m \u001b[39mself\u001b[39m\u001b[39m.\u001b[39mkept_var_idx]\n\u001b[0;32m-> 1140\u001b[0m   input_bufs \u001b[39m=\u001b[39m \u001b[39mself\u001b[39;49m\u001b[39m.\u001b[39;49min_handler(args)\n\u001b[1;32m   1141\u001b[0m   \u001b[39mif\u001b[39;00m (\u001b[39mself\u001b[39m\u001b[39m.\u001b[39mordered_effects \u001b[39mor\u001b[39;00m \u001b[39mself\u001b[39m\u001b[39m.\u001b[39mhas_unordered_effects\n\u001b[1;32m   1142\u001b[0m       \u001b[39mor\u001b[39;00m \u001b[39mself\u001b[39m\u001b[39m.\u001b[39mhas_host_callbacks):\n\u001b[1;32m   1143\u001b[0m     input_bufs \u001b[39m=\u001b[39m \u001b[39mself\u001b[39m\u001b[39m.\u001b[39m_add_tokens_to_inputs(input_bufs)\n",
      "File \u001b[0;32m~/Desktop/ANNNI2/.venv/lib/python3.10/site-packages/jax/_src/interpreters/pxla.py:1046\u001b[0m, in \u001b[0;36mInputsHandler.__call__\u001b[0;34m(self, input_buffers)\u001b[0m\n\u001b[1;32m   1045\u001b[0m \u001b[39mdef\u001b[39;00m \u001b[39m__call__\u001b[39m(\u001b[39mself\u001b[39m, input_buffers):\n\u001b[0;32m-> 1046\u001b[0m   \u001b[39mreturn\u001b[39;00m \u001b[39mself\u001b[39;49m\u001b[39m.\u001b[39;49mhandler(input_buffers)\n",
      "File \u001b[0;32m~/Desktop/ANNNI2/.venv/lib/python3.10/site-packages/jax/_src/profiler.py:314\u001b[0m, in \u001b[0;36mannotate_function.<locals>.wrapper\u001b[0;34m(*args, **kwargs)\u001b[0m\n\u001b[1;32m    311\u001b[0m \u001b[39m@wraps\u001b[39m(func)\n\u001b[1;32m    312\u001b[0m \u001b[39mdef\u001b[39;00m \u001b[39mwrapper\u001b[39m(\u001b[39m*\u001b[39margs, \u001b[39m*\u001b[39m\u001b[39m*\u001b[39mkwargs):\n\u001b[1;32m    313\u001b[0m   \u001b[39mwith\u001b[39;00m TraceAnnotation(name, \u001b[39m*\u001b[39m\u001b[39m*\u001b[39mdecorator_kwargs):\n\u001b[0;32m--> 314\u001b[0m     \u001b[39mreturn\u001b[39;00m func(\u001b[39m*\u001b[39;49margs, \u001b[39m*\u001b[39;49m\u001b[39m*\u001b[39;49mkwargs)\n\u001b[1;32m    315\u001b[0m   \u001b[39mreturn\u001b[39;00m wrapper\n",
      "File \u001b[0;32m~/Desktop/ANNNI2/.venv/lib/python3.10/site-packages/jax/_src/interpreters/pxla.py:146\u001b[0m, in \u001b[0;36mshard_args\u001b[0;34m(devices, indices, shardings, args)\u001b[0m\n\u001b[1;32m    125\u001b[0m \u001b[39m@profiler\u001b[39m\u001b[39m.\u001b[39mannotate_function\n\u001b[1;32m    126\u001b[0m \u001b[39mdef\u001b[39;00m \u001b[39mshard_args\u001b[39m(\n\u001b[1;32m    127\u001b[0m     devices: Sequence[xb\u001b[39m.\u001b[39mxla_client\u001b[39m.\u001b[39mDevice],\n\u001b[0;32m   (...)\u001b[0m\n\u001b[1;32m    130\u001b[0m     args,\n\u001b[1;32m    131\u001b[0m ) \u001b[39m-\u001b[39m\u001b[39m>\u001b[39m Sequence[jax\u001b[39m.\u001b[39mArray]:\n\u001b[1;32m    132\u001b[0m \u001b[39m  \u001b[39m\u001b[39m\"\"\"Shard each argument data array along its leading axis.\u001b[39;00m\n\u001b[1;32m    133\u001b[0m \n\u001b[1;32m    134\u001b[0m \u001b[39m  Args:\u001b[39;00m\n\u001b[0;32m   (...)\u001b[0m\n\u001b[1;32m    144\u001b[0m \u001b[39m    for each argument.\u001b[39;00m\n\u001b[1;32m    145\u001b[0m \u001b[39m  \"\"\"\u001b[39;00m\n\u001b[0;32m--> 146\u001b[0m   \u001b[39mreturn\u001b[39;00m [shard_arg(arg, devices, indices[i], shardings[i])\n\u001b[1;32m    147\u001b[0m           \u001b[39mfor\u001b[39;00m i, arg \u001b[39min\u001b[39;00m \u001b[39menumerate\u001b[39m(args)]\n",
      "File \u001b[0;32m~/Desktop/ANNNI2/.venv/lib/python3.10/site-packages/jax/_src/interpreters/pxla.py:146\u001b[0m, in \u001b[0;36m<listcomp>\u001b[0;34m(.0)\u001b[0m\n\u001b[1;32m    125\u001b[0m \u001b[39m@profiler\u001b[39m\u001b[39m.\u001b[39mannotate_function\n\u001b[1;32m    126\u001b[0m \u001b[39mdef\u001b[39;00m \u001b[39mshard_args\u001b[39m(\n\u001b[1;32m    127\u001b[0m     devices: Sequence[xb\u001b[39m.\u001b[39mxla_client\u001b[39m.\u001b[39mDevice],\n\u001b[0;32m   (...)\u001b[0m\n\u001b[1;32m    130\u001b[0m     args,\n\u001b[1;32m    131\u001b[0m ) \u001b[39m-\u001b[39m\u001b[39m>\u001b[39m Sequence[jax\u001b[39m.\u001b[39mArray]:\n\u001b[1;32m    132\u001b[0m \u001b[39m  \u001b[39m\u001b[39m\"\"\"Shard each argument data array along its leading axis.\u001b[39;00m\n\u001b[1;32m    133\u001b[0m \n\u001b[1;32m    134\u001b[0m \u001b[39m  Args:\u001b[39;00m\n\u001b[0;32m   (...)\u001b[0m\n\u001b[1;32m    144\u001b[0m \u001b[39m    for each argument.\u001b[39;00m\n\u001b[1;32m    145\u001b[0m \u001b[39m  \"\"\"\u001b[39;00m\n\u001b[0;32m--> 146\u001b[0m   \u001b[39mreturn\u001b[39;00m [shard_arg(arg, devices, indices[i], shardings[i])\n\u001b[1;32m    147\u001b[0m           \u001b[39mfor\u001b[39;00m i, arg \u001b[39min\u001b[39;00m \u001b[39menumerate\u001b[39m(args)]\n",
      "File \u001b[0;32m~/Desktop/ANNNI2/.venv/lib/python3.10/site-packages/jax/_src/interpreters/pxla.py:122\u001b[0m, in \u001b[0;36mshard_arg\u001b[0;34m(arg, devices, arg_indices, sharding, canonicalize)\u001b[0m\n\u001b[1;32m    120\u001b[0m \u001b[39mif\u001b[39;00m canonicalize:\n\u001b[1;32m    121\u001b[0m   arg \u001b[39m=\u001b[39m xla\u001b[39m.\u001b[39mcanonicalize_dtype(arg)\n\u001b[0;32m--> 122\u001b[0m \u001b[39mreturn\u001b[39;00m shard_arg_handlers[\u001b[39mtype\u001b[39;49m(arg)](arg, devices, arg_indices, sharding)\n",
      "File \u001b[0;32m~/Desktop/ANNNI2/.venv/lib/python3.10/site-packages/jax/_src/interpreters/pxla.py:166\u001b[0m, in \u001b[0;36m_shard_array\u001b[0;34m(x, devices, indices, sharding)\u001b[0m\n\u001b[1;32m    164\u001b[0m   x \u001b[39m=\u001b[39m np\u001b[39m.\u001b[39mzeros(x\u001b[39m.\u001b[39mshape, dtype\u001b[39m=\u001b[39mnp\u001b[39m.\u001b[39mdtype(\u001b[39mbool\u001b[39m))\n\u001b[1;32m    165\u001b[0m aval \u001b[39m=\u001b[39m api_util\u001b[39m.\u001b[39mshaped_abstractify(x)\n\u001b[0;32m--> 166\u001b[0m \u001b[39mreturn\u001b[39;00m batched_device_put(aval, sharding, [x[i] \u001b[39mfor\u001b[39;49;00m i \u001b[39min\u001b[39;49;00m indices], devices)\n",
      "File \u001b[0;32m~/Desktop/ANNNI2/.venv/lib/python3.10/site-packages/jax/_src/interpreters/pxla.py:186\u001b[0m, in \u001b[0;36mbatched_device_put\u001b[0;34m(aval, sharding, xs, devices, committed)\u001b[0m\n\u001b[1;32m    183\u001b[0m \u001b[39mif\u001b[39;00m \u001b[39mlen\u001b[39m(bufs) \u001b[39m==\u001b[39m \u001b[39mlen\u001b[39m(xs):\n\u001b[1;32m    184\u001b[0m   \u001b[39mreturn\u001b[39;00m array\u001b[39m.\u001b[39mArrayImpl(\n\u001b[1;32m    185\u001b[0m       aval, sharding, bufs, committed\u001b[39m=\u001b[39mcommitted, _skip_checks\u001b[39m=\u001b[39m\u001b[39mTrue\u001b[39;00m)\n\u001b[0;32m--> 186\u001b[0m \u001b[39mreturn\u001b[39;00m xc\u001b[39m.\u001b[39;49mbatched_device_put(aval, sharding, xs, devices, committed)\n",
      "\u001b[0;31mXlaRuntimeError\u001b[0m: RESOURCE_EXHAUSTED: Out of memory while trying to allocate 4294967296 bytes."
     ]
    }
   ],
   "source": [
    "Ls = np.arange(8,21)\n",
    "times = []\n",
    "for L in Ls:\n",
    "    mat = generate_big_matrix(L)\n",
    "    start = time.time()\n",
    "    diag_time = j_diagonalize(mat)\n",
    "    stop = time.time()\n",
    "    times.append(stop-start)\n",
    "\n",
    "\n",
    "times = np.array(times)"
   ]
  },
  {
   "cell_type": "code",
   "execution_count": 6,
   "metadata": {},
   "outputs": [
    {
     "data": {
      "text/plain": [
       "Text(0.5, 0, 'size LxL')"
      ]
     },
     "execution_count": 6,
     "metadata": {},
     "output_type": "execute_result"
    },
    {
     "data": {
      "image/png": "[encoded data removed]",
      "text/plain": [
       "<Figure size 640x480 with 1 Axes>"
      ]
     },
     "metadata": {},
     "output_type": "display_data"
    }
   ],
   "source": [
    "plt.plot(Ls[:len(times)], times)\n",
    "plt.xticks(Ls[:len(times)])\n",
    "plt.ylim(0,)\n",
    "plt.ylabel('time (s)')\n",
    "plt.xlabel('size LxL')"
   ]
  },
  {
   "cell_type": "code",
   "execution_count": 5,
   "metadata": {},
   "outputs": [
    {
     "data": {
      "text/plain": [
       "[0.09577250480651855,\n",
       " 0.08994722366333008,\n",
       " 0.1439969539642334,\n",
       " 0.16224145889282227,\n",
       " 0.46183156967163086,\n",
       " 2.325885534286499,\n",
       " 12.19972538948059]"
      ]
     },
     "execution_count": 5,
     "metadata": {},
     "output_type": "execute_result"
    }
   ],
   "source": [
    "times"
   ]
  }
 ],
 "metadata": {
  "kernelspec": {
   "display_name": ".venv",
   "language": "python",
   "name": "python3"
  },
  "language_info": {
   "codemirror_mode": {
    "name": "ipython",
    "version": 3
   },
   "file_extension": ".py",
   "mimetype": "text/x-python",
   "name": "python",
   "nbconvert_exporter": "python",
   "pygments_lexer": "ipython3",
   "version": "3.10.6"
  },
  "orig_nbformat": 4
 },
 "nbformat": 4,
 "nbformat_minor": 2
}
