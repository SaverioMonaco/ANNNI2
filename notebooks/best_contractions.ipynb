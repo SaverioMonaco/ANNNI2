{
 "cells": [
  {
   "attachments": {},
   "cell_type": "markdown",
   "metadata": {},
   "source": [
    "## Notebook for finding the best functions to contract an MPS into its wavefunction"
   ]
  },
  {
   "cell_type": "code",
   "execution_count": 1,
   "metadata": {},
   "outputs": [],
   "source": [
    "import sys \n",
    "sys.path.append('../src')"
   ]
  },
  {
   "cell_type": "code",
   "execution_count": 2,
   "metadata": {},
   "outputs": [],
   "source": [
    "import numpy as np\n",
    "import ANNNIstates\n",
    "from opt_einsum import contract\n",
    "from typing import List, Union, Tuple, Optional\n",
    "from jax import jit\n"
   ]
  },
  {
   "cell_type": "code",
   "execution_count": 3,
   "metadata": {},
   "outputs": [],
   "source": [
    "# Variables\n",
    "path = \"../tensor_data\"\n",
    "L = 12\n",
    "h = 0.5\n",
    "kappa = 0.5\n",
    "precision = 2\n",
    "\n",
    "# Load the shapes and tensors array\n",
    "shapes = np.loadtxt(\n",
    "        f\"{path}/shapes_sites_{'ANNNI'}_L_{L}_h_{h:.{precision}f}_kappa_{kappa:.{precision}f}\"\n",
    "    ).astype(int)\n",
    "\n",
    "tensors = np.loadtxt(\n",
    "        f\"{path}/tensor_sites_{'ANNNI'}_L_{L}_h_{h:.{precision}f}_kappa_{kappa:.{precision}f}\"\n",
    "    )"
   ]
  },
  {
   "cell_type": "code",
   "execution_count": 4,
   "metadata": {},
   "outputs": [],
   "source": [
    "# Load the list of MPS tensors\n",
    "TT = ANNNIstates.state(shapes, tensors).MPS"
   ]
  },
  {
   "attachments": {},
   "cell_type": "markdown",
   "metadata": {},
   "source": [
    "### María/ncon implementation"
   ]
  },
  {
   "cell_type": "code",
   "execution_count": 5,
   "metadata": {},
   "outputs": [],
   "source": [
    "## Support functions ##\n",
    "\n",
    "def check_inputs(connect_list, flat_connect, dims_list, con_order):\n",
    "  \"\"\" Check consistancy of NCON inputs\"\"\"\n",
    "\n",
    "  pos_ind = flat_connect[flat_connect > 0]\n",
    "  neg_ind = flat_connect[flat_connect < 0]\n",
    "\n",
    "  # check that lengths of lists match\n",
    "  if len(dims_list) != len(connect_list):\n",
    "    raise ValueError(\n",
    "        ('mismatch between %i tensors given but %i index sublists given') %\n",
    "        (len(dims_list), len(connect_list)))\n",
    "\n",
    "  # check that tensors have the right number of indices\n",
    "  for ele in range(len(dims_list)):\n",
    "    if len(dims_list[ele]) != len(connect_list[ele]):\n",
    "      raise ValueError((\n",
    "          'number of indices does not match number of labels on tensor %i: '\n",
    "          '%i-indices versus %i-labels')\n",
    "          % (ele, len(dims_list[ele]), len(connect_list[ele])))\n",
    "\n",
    "  # check that contraction order is valid\n",
    "  if not np.array_equal(np.sort(con_order), np.unique(pos_ind)):\n",
    "    raise ValueError(('NCON error: invalid contraction order'))\n",
    "\n",
    "  # check that negative indices are valid\n",
    "  for ind in np.arange(-1, -len(neg_ind) - 1, -1):\n",
    "    if sum(neg_ind == ind) == 0:\n",
    "      raise ValueError(('NCON error: no index labelled %i') % (ind))\n",
    "    elif sum(neg_ind == ind) > 1:\n",
    "      raise ValueError(('NCON error: more than one index labelled %i') % (ind))\n",
    "\n",
    "  # check that positive indices are valid and contracted tensor dimensions match\n",
    "  flat_dims = np.array([item for sublist in dims_list for item in sublist])\n",
    "  for ind in np.unique(pos_ind):\n",
    "    if sum(pos_ind == ind) == 1:\n",
    "      raise ValueError(('NCON error: only one index labelled %i') % (ind))\n",
    "    elif sum(pos_ind == ind) > 2:\n",
    "      raise ValueError(\n",
    "          ('NCON error: more than two indices labelled %i') % (ind))\n",
    "\n",
    "    cont_dims = flat_dims[flat_connect == ind]\n",
    "    if cont_dims[0] != cont_dims[1]:\n",
    "      raise ValueError(\n",
    "          ('NCON error: tensor dimension mismatch on index labelled %i: '\n",
    "           'dim-%i versus dim-%i') % (ind, cont_dims[0], cont_dims[1]))\n",
    "\n",
    "  return True\n",
    "\n",
    "def ncon(tensors: List[np.ndarray],\n",
    "         connects: List[Union[List[int], Tuple[int]]],\n",
    "         con_order: Optional[Union[List[int], str]] = None,\n",
    "         check_network: Optional[bool] = True,\n",
    "         which_env: Optional[int] = 0):\n",
    "  \"\"\"\n",
    "  Network CONtractor: contracts a tensor network of N tensors via a sequence\n",
    "  of (N-1) tensordot operations. More detailed instructions and examples can\n",
    "  be found at: https://arxiv.org/abs/1402.0939.\n",
    "  Args:\n",
    "    tensors: list of the tensors in the network.\n",
    "    connects: length-N list of lists (or tuples) specifying the network\n",
    "      connections. The jth entry of the ith list in connects labels the edge\n",
    "      connected to the jth index of the ith tensor. Labels should be positive\n",
    "      integers for internal indices and negative integers for free indices.\n",
    "    con_order: optional argument to specify the order for contracting the\n",
    "      positive indices. Defaults to ascending order if omitted. Can also be\n",
    "      set at \"greedy\" or \"full\" to call a solver to automatically determine\n",
    "      the order.\n",
    "    check_network: if true then the input network is checked for consistency;\n",
    "      this can catch many common user mistakes for defining networks.\n",
    "    which_env: if provided, ncon will produce the environment of the requested\n",
    "      tensor (i.e. the network given by removing the specified tensor from\n",
    "      the original network). Only valid for networks with no open indices.\n",
    "  Returns:\n",
    "    Union[np.ndarray,float]: the result of the network contraction; an\n",
    "      np.ndarray if the network contained open indices, otherwise a scalar.\n",
    "  \"\"\"\n",
    "  num_tensors = len(tensors)\n",
    "  tensor_list = [tensors[ele] for ele in range(num_tensors)]\n",
    "  connect_list = [np.array(connects[ele]) for ele in range(num_tensors)]\n",
    "\n",
    "  # generate contraction order if necessary\n",
    "  flat_connect = np.concatenate(connect_list)\n",
    "  if con_order is None:\n",
    "    con_order = np.unique(flat_connect[flat_connect > 0])\n",
    "  else:\n",
    "    con_order = np.array(con_order)\n",
    "\n",
    "  # check inputs if enabled\n",
    "  if check_network:\n",
    "    dims_list = [list(tensor.shape) for tensor in tensor_list]\n",
    "    check_inputs(connect_list, flat_connect, dims_list, con_order)\n",
    "\n",
    "  # do all partial traces\n",
    "  for ele in range(len(tensor_list)):\n",
    "    num_cont = len(connect_list[ele]) - len(np.unique(connect_list[ele]))\n",
    "    if num_cont > 0:\n",
    "      tensor_list[ele], connect_list[ele], cont_ind = partial_trace(\n",
    "          tensor_list[ele], connect_list[ele])\n",
    "      con_order = np.delete(\n",
    "          con_order,\n",
    "          np.intersect1d(con_order, cont_ind, return_indices=True)[1])\n",
    "\n",
    "  # do all binary contractions\n",
    "  while len(con_order) > 0:\n",
    "    # identify tensors to be contracted\n",
    "    cont_ind = con_order[0]\n",
    "    locs = [\n",
    "        ele for ele in range(len(connect_list))\n",
    "        if sum(connect_list[ele] == cont_ind) > 0\n",
    "    ]\n",
    "\n",
    "    # do binary contraction\n",
    "    cont_many, A_cont, B_cont = np.intersect1d(\n",
    "        connect_list[locs[0]],\n",
    "        connect_list[locs[1]],\n",
    "        assume_unique=True,\n",
    "        return_indices=True)\n",
    "    if np.size(tensor_list[locs[0]]) < np.size(tensor_list[locs[1]]):\n",
    "      ind_order = np.argsort(A_cont)\n",
    "    else:\n",
    "      ind_order = np.argsort(B_cont)\n",
    "\n",
    "    tensor_list.append(\n",
    "        np.tensordot(\n",
    "            tensor_list[locs[0]],\n",
    "            tensor_list[locs[1]],\n",
    "            axes=(A_cont[ind_order], B_cont[ind_order])))\n",
    "    connect_list.append(\n",
    "        np.append(\n",
    "            np.delete(connect_list[locs[0]], A_cont),\n",
    "            np.delete(connect_list[locs[1]], B_cont)))\n",
    "\n",
    "    # remove contracted tensors from list and update con_order\n",
    "    del tensor_list[locs[1]]\n",
    "    del tensor_list[locs[0]]\n",
    "    del connect_list[locs[1]]\n",
    "    del connect_list[locs[0]]\n",
    "    con_order = np.delete(\n",
    "        con_order,\n",
    "        np.intersect1d(con_order, cont_many, return_indices=True)[1])\n",
    "\n",
    "  # do all outer products\n",
    "  while len(tensor_list) > 1:\n",
    "    s1 = tensor_list[-2].shape\n",
    "    s2 = tensor_list[-1].shape\n",
    "    tensor_list[-2] = np.outer(tensor_list[-2].reshape(np.prod(s1)),\n",
    "                               tensor_list[-1].reshape(np.prod(s2))).reshape(\n",
    "                                   np.append(s1, s2))\n",
    "    connect_list[-2] = np.append(connect_list[-2], connect_list[-1])\n",
    "    del tensor_list[-1]\n",
    "    del connect_list[-1]\n",
    "\n",
    "  # do final permutation\n",
    "  if len(connect_list[0]) > 0:\n",
    "    return np.transpose(tensor_list[0], np.argsort(-connect_list[0]))\n",
    "  else:\n",
    "    return tensor_list[0].item()"
   ]
  },
  {
   "cell_type": "code",
   "execution_count": 6,
   "metadata": {},
   "outputs": [],
   "source": [
    "def ncon_contraction(tensors, d = 2):\n",
    "    L = len(tensors)\n",
    "    contraction = tensors[0]\n",
    "    for i in range(L - 1):\n",
    "        contraction = ncon([contraction, tensors[i + 1]],[[-1,-2,1],[1,-3,-4]]).reshape(contraction.shape[0], d ** (i + 2), tensors[i + 1].shape[2])\n",
    "    return contraction[0].flatten()"
   ]
  },
  {
   "attachments": {},
   "cell_type": "markdown",
   "metadata": {},
   "source": [
    "### opt_einsum implementation (CPU)"
   ]
  },
  {
   "cell_type": "code",
   "execution_count": 7,
   "metadata": {},
   "outputs": [],
   "source": [
    "# Real ugly workaround, forget you are reading this\n",
    "\n",
    "allchars = 'abcdefghijklmnopqrstuvwxyzABCDEFGHIJKLMNOPQRSTUVWXYZ'\n",
    "\n",
    "def get_subscript(L):\n",
    "    \"\"\" \n",
    "    This function returns the correct subscript for the opt_einsum MPS contraction\n",
    "    \"\"\" \n",
    "    subscript = '' \n",
    "    for l in range(L):\n",
    "         subscript += allchars[2*l:2*l+3]+','\n",
    "\n",
    "    return subscript[:-1]\n",
    "\n",
    "# Also it works up to 26, but I do not think we want to access a 2^26 dimensional vector"
   ]
  },
  {
   "cell_type": "code",
   "execution_count": 8,
   "metadata": {},
   "outputs": [],
   "source": [
    "def einsum_contraction(tensors): \n",
    "    return contract(get_subscript(len(tensors)), *tensors).flatten()"
   ]
  },
  {
   "attachments": {},
   "cell_type": "markdown",
   "metadata": {},
   "source": [
    "### opt_einsum implementation (GPU)"
   ]
  },
  {
   "cell_type": "code",
   "execution_count": 9,
   "metadata": {},
   "outputs": [],
   "source": [
    "@jit\n",
    "def einsum_contraction_GPU(tensors): \n",
    "    return contract(get_subscript(len(tensors)), *tensors, backend='jax').flatten()"
   ]
  },
  {
   "attachments": {},
   "cell_type": "markdown",
   "metadata": {},
   "source": [
    "### Do the three methods output the same results?"
   ]
  },
  {
   "cell_type": "code",
   "execution_count": 10,
   "metadata": {},
   "outputs": [
    {
     "name": "stderr",
     "output_type": "stream",
     "text": [
      "WARNING: All log messages before absl::InitializeLog() is called are written to STDERR\n",
      "I0000 00:00:1696417729.701495   14537 tfrt_cpu_pjrt_client.cc:349] TfrtCpuClient created.\n"
     ]
    },
    {
     "name": "stdout",
     "output_type": "stream",
     "text": [
      "Results are consistent\n"
     ]
    }
   ],
   "source": [
    "# Load different tensors to avoid weird cache behaviour during the time evaluation\n",
    "h2    = 0.5\n",
    "kappa2 = 0.5\n",
    "\n",
    "shapes2 = np.loadtxt(f\"{path}/shapes_sites_{'ANNNI'}_L_{L}_h_{h2:.{precision}f}_kappa_{kappa2:.{precision}f}\").astype(int)\n",
    "tensors2 = np.loadtxt(f\"{path}/tensor_sites_{'ANNNI'}_L_{L}_h_{h2:.{precision}f}_kappa_{kappa2:.{precision}f}\")\n",
    "TT2 = ANNNIstates.state(shapes2, tensors2).MPS\n",
    "\n",
    "w1 = ncon_contraction(TT2)\n",
    "w2 = einsum_contraction(TT2)\n",
    "w3 = einsum_contraction_GPU(TT2)\n",
    "\n",
    "\n",
    "if (np.isclose(w1,w2).all() and np.isclose(w2,w3).all()):\n",
    "    print('Results are consistent')\n",
    "else:\n",
    "    print('Results are NOT consistent')"
   ]
  },
  {
   "attachments": {},
   "cell_type": "markdown",
   "metadata": {},
   "source": [
    "## Benchmarking"
   ]
  },
  {
   "cell_type": "code",
   "execution_count": 11,
   "metadata": {},
   "outputs": [
    {
     "name": "stdout",
     "output_type": "stream",
     "text": [
      "NCON:\n",
      "2.61 ms ± 82.4 µs per loop (mean ± std. dev. of 7 runs, 100 loops each)\n"
     ]
    }
   ],
   "source": [
    "print('NCON:')\n",
    "ncon_time      = %timeit -o ncon_contraction(TT)"
   ]
  },
  {
   "cell_type": "code",
   "execution_count": 12,
   "metadata": {},
   "outputs": [
    {
     "name": "stdout",
     "output_type": "stream",
     "text": [
      "opt_einsum:\n",
      "1.19 ms ± 116 µs per loop (mean ± std. dev. of 7 runs, 1,000 loops each)\n"
     ]
    }
   ],
   "source": [
    "print('opt_einsum:')\n",
    "einsumcpu_time = %timeit -o einsum_contraction(TT)"
   ]
  },
  {
   "cell_type": "code",
   "execution_count": 13,
   "metadata": {},
   "outputs": [
    {
     "name": "stdout",
     "output_type": "stream",
     "text": [
      "opt_einsum + jit + jax backend:\n",
      "425 µs ± 53.8 µs per loop (mean ± std. dev. of 7 runs, 1,000 loops each)\n"
     ]
    }
   ],
   "source": [
    "print('opt_einsum + jit + jax backend:')\n",
    "einsumgpu_time = %timeit -o einsum_contraction_GPU(TT)"
   ]
  },
  {
   "cell_type": "code",
   "execution_count": 14,
   "metadata": {},
   "outputs": [
    {
     "data": {
      "image/png": "[encoded data removed]",
      "text/plain": [
       "<Figure size 640x480 with 1 Axes>"
      ]
     },
     "metadata": {},
     "output_type": "display_data"
    }
   ],
   "source": [
    "import matplotlib.pyplot as plt\n",
    "\n",
    "averages = [time.average for time in [ncon_time, einsumcpu_time, einsumgpu_time]]\n",
    "stevs    = [time.stdev   for time in [ncon_time, einsumcpu_time, einsumgpu_time]]\n",
    "x_pos    = np.arange(len(averages))\n",
    "labels   = ['ncon', 'einsum (CPU)', 'einsum (GPU)']\n",
    "# Build the plot\n",
    "fig, ax = plt.subplots()\n",
    "ax.bar(x_pos, averages, yerr=stevs, align='center', alpha=0.5, ecolor='black', capsize=10)\n",
    "ax.set_ylabel('time (s)')\n",
    "ax.set_xticks(x_pos)\n",
    "ax.set_xticklabels(labels)\n",
    "ax.set_title(f'Timings for contracting a {L}-sites MPS')\n",
    "ax.yaxis.grid(True)"
   ]
  }
 ],
 "metadata": {
  "kernelspec": {
   "display_name": ".venv",
   "language": "python",
   "name": "python3"
  },
  "language_info": {
   "codemirror_mode": {
    "name": "ipython",
    "version": 3
   },
   "file_extension": ".py",
   "mimetype": "text/x-python",
   "name": "python",
   "nbconvert_exporter": "python",
   "pygments_lexer": "ipython3",
   "version": "3.10.6"
  },
  "orig_nbformat": 4
 },
 "nbformat": 4,
 "nbformat_minor": 2
}
