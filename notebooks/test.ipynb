{
 "cells": [
  {
   "cell_type": "code",
   "execution_count": 1,
   "metadata": {},
   "outputs": [],
   "source": [
    "import sys \n",
    "sys.path.append('../src/')"
   ]
  },
  {
   "cell_type": "code",
   "execution_count": 76,
   "metadata": {},
   "outputs": [],
   "source": [
    "import numpy as np\n",
    "import pennylane as qml\n",
    "from jax import jit\n",
    "from opt_einsum import contract\n",
    "import mpsgen\n",
    "import os\n",
    "from typing import Tuple, List, Callable\n",
    "\n",
    "class state:\n",
    "    def __init__(self, L : int, h : float, k : float, shapes : np.ndarray, tensors : np.ndarray, towave_func : Callable):\n",
    "        self.L, self.h, self.k = L, h, k\n",
    "        self.shapes = shapes.astype(int)\n",
    "        # This needs some explanation:\n",
    "        # 1. Start from `tensors`, it is just a list of value that have to be grouped in smaller\n",
    "        #    tensors according to the shapes list, that defines the list of the smaller tensors\n",
    "        # 2. Compute self.splits, it tells the indexes for splitting the full vector into\n",
    "        #    the smaller tensors\n",
    "        #    EX:\n",
    "        #        [a,b,c,d,e,f,g,h] : full vector\n",
    "        #         0 1 2 3 4 5 6 7    index\n",
    "        #        [2,6]             : self.splits\n",
    "        #        self.splits tells you how to break the full vector\n",
    "        #        [a,b] [c,d,e,f] [g,h] : split vectors\n",
    "        self.splits = np.cumsum(np.prod(shapes, axis=1)).astype(int)\n",
    "        # 3. Compute the MPS:\n",
    "        #     3.1: Group the elements in split vectors (not split tensors yet)\n",
    "        #          np.array_split(tensors, self.splits)[:-1] \n",
    "        #          flat_tn = np.array_split(tensors, self.splits)[:-1] split vectors, List of L vectors\n",
    "        #                    NOTE: np.array_split(tensors, self.splits)[-1] is empty\n",
    "        #     3.2: Reshape each of the L vector into tensor with the shape declared in self.shape\n",
    "        # 3.1 and 3.2 done together to avoid garbage collector shenanigans\n",
    "        self.MPS = [site.reshape(self.shapes[i]) for i, site in enumerate(np.array_split(tensors, self.splits)[:-1])]\n",
    "\n",
    "        self.towave = lambda : towave_func(self.MPS)\n",
    "\n",
    "    def H(self):\n",
    "        \"\"\"\n",
    "        Returns the ANNNI Hamiltonian with the correct values of L, h and k\n",
    "        \"\"\"\n",
    "\n",
    "        # Interaction of spins with magnetic field\n",
    "        H = - self.h * qml.PauliZ(0)\n",
    "        for i in range(1, self.L):\n",
    "            H = H - self.h * qml.PauliZ(i)\n",
    "\n",
    "        # Interaction between spins (neighbouring):\n",
    "        for i in range(0, self.L - 1):\n",
    "            H = H + (-1) * (qml.PauliX(i) @ qml.PauliX(i + 1))\n",
    "\n",
    "        # Interaction between spins (next-neighbouring):\n",
    "        for i in range(0, self.L - 2):\n",
    "            H = H + (-1) * self.k * (qml.PauliX(i) @ qml.PauliX(i + 2))\n",
    "\n",
    "        return H \n",
    "\n",
    "    def __repr__(self):\n",
    "        repr_str = f'MPS state\\n L = {self.L}\\n h = {self.h}\\n k = {self.k}\\n shape of the MPS :\\n'\n",
    "        # Many ifs to print nicely the shape array\n",
    "        for i, shape in enumerate(self.shapes): \n",
    "            if i == 0:\n",
    "                repr_str += f' [{shape},'\n",
    "            elif i == len(self.shapes) - 1:\n",
    "                repr_str += f'  {shape}'\n",
    "            else:\n",
    "                repr_str += f'  {shape},'\n",
    "            if i == len(self.shapes) - 1:\n",
    "                repr_str += ']'\n",
    "            elif i % 2 != 0:\n",
    "                repr_str += '\\n'\n",
    "            \n",
    "\n",
    "        return repr_str      \n",
    "        \n",
    "class mps:\n",
    "    def __init__(self, folder : str = '../tensor_data/', gpu : bool = False):\n",
    "        ###########################\n",
    "        #      CHECK FOLDER       #\n",
    "        ###########################\n",
    "        self.path = folder\n",
    "\n",
    "        # Check if folder exists\n",
    "        try: \n",
    "            files_all        = np.array(os.listdir(folder))\n",
    "            self.files_shape = files_all[np.char.startswith(files_all,'shapes_sites')]\n",
    "            self.files_tens  = files_all[np.char.startswith(files_all,'tensor_sites')]\n",
    "        except:\n",
    "            raise TypeError(f'Folder {folder} not found')\n",
    "        \n",
    "        def get_info(file_string : str) -> Tuple[int, float, float, int, int]:\n",
    "            \"\"\"\n",
    "            1. Split big string into array of string\n",
    "            'shapes_sites_ANNNI_L_{L}_h_{h}_kappa_{k}'\n",
    "                into\n",
    "            ['shapes', 'sites', 'ANNNI', 'L', '{L}','h', '{h}', 'kappa', '{k}']\n",
    "              0         1        2        3    4^    5    6^     7        8^\n",
    "            2. Take the element 4, 6 and 8 \n",
    "            \"\"\"\n",
    "            split_str = file_string.split('_')\n",
    "\n",
    "            # return respectively:\n",
    "            # L, h, k, precision on h, precision on k\n",
    "            return int(split_str[4]), float(split_str[6]), float(split_str[8]), len(split_str[6].split('.')[1]), len(split_str[8].split('.')[1])\n",
    "        \n",
    "        # Check if files are okay\n",
    "        Ls_shape, hs_shape, ks_shape, hs_shape_prec, ks_shape_prec = [], [], [], [], []\n",
    "        Ls_tens,  hs_tens,  ks_tens,  hs_tens_prec,  ks_tens_prec  = [], [], [], [], []\n",
    "        for file in self.files_shape:\n",
    "            L, h, k, hprec, kprec = get_info(file)\n",
    "            Ls_shape.append(L)\n",
    "            hs_shape.append(h)\n",
    "            ks_shape.append(k)\n",
    "            hs_shape_prec.append(hprec)\n",
    "            ks_shape_prec.append(kprec)\n",
    "        for file in self.files_tens:\n",
    "            L, h, k, hprec, kprec = get_info(file)\n",
    "            Ls_tens.append(L)\n",
    "            hs_tens.append(h)\n",
    "            ks_tens.append(k)\n",
    "            hs_tens_prec.append(hprec)\n",
    "            ks_tens_prec.append(kprec)\n",
    "\n",
    "        # Check on L\n",
    "        if len(np.unique(Ls_shape)) > 1 or len(np.unique(Ls_tens)) > 1:\n",
    "            raise ValueError(f'L has multiple values')\n",
    "        elif Ls_shape[0] != Ls_tens[0]:\n",
    "            raise ValueError(f'L has inconsistent values')\n",
    "        # otherwise L is okay:\n",
    "        self.L = Ls_shape[0]\n",
    "\n",
    "        # Check on h and k\n",
    "        #  None for now\n",
    "        self.hs = np.sort(np.unique(hs_shape))\n",
    "        self.ks = np.sort(np.unique(ks_shape))\n",
    "\n",
    "        # Check on precisions\n",
    "        if len(np.unique(hs_shape_prec + hs_tens_prec)) > 1 or len(np.unique(ks_shape_prec + ks_tens_prec)) > 1: \n",
    "            raise ValueError('Inconsistent precisions in files')\n",
    "        self.h_prec = hs_shape_prec[0]\n",
    "        self.k_prec = ks_shape_prec[0]\n",
    "\n",
    "        # Format of the file names:\n",
    "        # shape_file  : shape_sites_ANNNI_L_{N}_h_{h}_kappa_{k}\n",
    "        self.shape_str  = lambda h, k : folder+f'shapes_sites_ANNNI_L_{self.L}_h_{h:.{self.h_prec}f}_kappa_{k:.{self.k_prec}f}'\n",
    "        # tensor_file : shape_sites_ANNNI_L_{N}_h_{h}_kappa_{k}\n",
    "        self.tensor_str = lambda h, k : folder+f'tensor_sites_ANNNI_L_{self.L}_h_{h:.{self.h_prec}f}_kappa_{k:.{self.k_prec}f}'\n",
    "\n",
    "        ###########################\n",
    "        #      LOAD ALL MPS       #\n",
    "        ###########################\n",
    "        self.mpstowavefunc_subscript = mpsgen.get_subscript(self.L)\n",
    "        if gpu:\n",
    "            self.get_psi = jit(lambda TT: contract(self.mpstowavefunc_subscript, *TT, backend='jax').flatten())\n",
    "        else:\n",
    "            self.get_psi = lambda TT: contract(self.mpstowavefunc_subscript, *TT).flatten()\n",
    "\n",
    "        self.MPS = []\n",
    "        # Well load all the states using h as inner variable loop\n",
    "        # With this, I am assuming the variables h and k are disposed\n",
    "        # into a grid, uniformly spaced\n",
    "        # TODO: Read directly from the folder\n",
    "        for k in self.ks:\n",
    "            for h in self.hs:\n",
    "                    shapes  = np.loadtxt(self.shape_str(h,k)).astype(int)\n",
    "                    tensors = np.loadtxt(self.tensor_str(h,k))\n",
    "                    self.MPS.append(state(self.L, h, k, shapes, tensors, self.get_psi))"
   ]
  },
  {
   "cell_type": "code",
   "execution_count": 77,
   "metadata": {},
   "outputs": [],
   "source": [
    "TT = mps(gpu=True)"
   ]
  },
  {
   "cell_type": "code",
   "execution_count": 78,
   "metadata": {},
   "outputs": [
    {
     "data": {
      "text/plain": [
       "MPS state\n",
       " L = 12\n",
       " h = 0.0\n",
       " k = 0.0\n",
       " shape of the MPS :\n",
       " [[1 2 1],  [1 2 1],\n",
       "  [1 2 1],  [1 2 1],\n",
       "  [1 2 1],  [1 2 1],\n",
       "  [1 2 1],  [1 2 1],\n",
       "  [1 2 1],  [1 2 1],\n",
       "  [1 2 1],  [1 2 1]]"
      ]
     },
     "execution_count": 78,
     "metadata": {},
     "output_type": "execute_result"
    }
   ],
   "source": [
    "TT.MPS[0]"
   ]
  },
  {
   "cell_type": "code",
   "execution_count": 41,
   "metadata": {},
   "outputs": [
    {
     "data": {
      "text/plain": [
       "Array([-1.3115895e-01,  5.7369029e-13,  7.1693600e-13, ...,\n",
       "        3.5287437e-14,  4.7039450e-14, -3.5882534e-03], dtype=float32)"
      ]
     },
     "execution_count": 41,
     "metadata": {},
     "output_type": "execute_result"
    }
   ],
   "source": [
    "TT.get_psi(TT.MPS[5].MPS)"
   ]
  },
  {
   "cell_type": "code",
   "execution_count": 47,
   "metadata": {},
   "outputs": [
    {
     "data": {
      "text/plain": [
       "Array([ 6.1767095e-01, -5.5594743e-16, -1.1555461e-15, ...,\n",
       "       -2.3075802e-18, -3.5792362e-18,  2.9119232e-04], dtype=float32)"
      ]
     },
     "execution_count": 47,
     "metadata": {},
     "output_type": "execute_result"
    }
   ],
   "source": [
    "TT.MPS[10].towave()"
   ]
  }
 ],
 "metadata": {
  "kernelspec": {
   "display_name": ".venv",
   "language": "python",
   "name": "python3"
  },
  "language_info": {
   "codemirror_mode": {
    "name": "ipython",
    "version": 3
   },
   "file_extension": ".py",
   "mimetype": "text/x-python",
   "name": "python",
   "nbconvert_exporter": "python",
   "pygments_lexer": "ipython3",
   "version": "3.10.6"
  },
  "orig_nbformat": 4
 },
 "nbformat": 4,
 "nbformat_minor": 2
}
